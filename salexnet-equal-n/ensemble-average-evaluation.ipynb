{
 "cells": [
  {
   "cell_type": "code",
   "execution_count": 4,
   "metadata": {
    "collapsed": true
   },
   "outputs": [],
   "source": [
    "# imports\n",
    "import tensorflow as tf\n",
    "import numpy as np\n",
    "from six.moves import cPickle as pickle\n",
    "from scaledalexnet import *\n",
    "import matplotlib.pyplot as plt"
   ]
  },
  {
   "cell_type": "code",
   "execution_count": 2,
   "metadata": {},
   "outputs": [
    {
     "name": "stdout",
     "output_type": "stream",
     "text": [
      "(12630, 32, 32, 3)\n",
      "(12630,)\n"
     ]
    }
   ],
   "source": [
    "# load data\n",
    "\n",
    "testing_file = '../datasets/traffic-signs-data/test.p'\n",
    "with open(testing_file, mode='rb') as f:\n",
    "    test = pickle.load(f)\n",
    "    \n",
    "X_test, y_test = test['features'], test['labels']\n",
    "\n",
    "print(X_test.shape)\n",
    "print(y_test.shape)\n",
    "\n",
    "pixel_depth = 255.0\n",
    "\n",
    "X_test_norm =  (X_test.astype(np.float32) - (pixel_depth * 0.5)) / (pixel_depth * 0.5)"
   ]
  },
  {
   "cell_type": "code",
   "execution_count": 3,
   "metadata": {
    "collapsed": true
   },
   "outputs": [],
   "source": [
    "ens = [1, 2, 3, 4, 5, 6, 7, 8, 9, 10] # model numbers to join the ensemble average\n",
    "ens_path = 'saved-salexnet-aug-eq-n-ens' # path for saved models\n",
    "scores_file_name = 'scores.pkl' # file name to save scores\n",
    "\n",
    "num_labels = 43\n",
    "batch_size = 12630\n",
    "\n",
    "salexnet = ScaledAlexNet(num_labels, image_size=32, batch_size=batch_size)\n",
    "\n",
    "def pickle_model_scores(X, model, ens, ens_path, scores_file_name):\n",
    "    \"\"\"Save scores for each model.\n",
    "    \n",
    "    Arguments:\n",
    "        X: features of test dataset.\n",
    "        ens: a list of model numbers to join the ensemble average.\n",
    "        ens_path: (string) saved session path (not including the last \n",
    "                  ens number).\n",
    "        scores_file: file name to save the scores.\n",
    "    \"\"\"\n",
    "    \n",
    "    model.init_model()\n",
    "    saver = tf.train.Saver()\n",
    "    \n",
    "    for i in ens:\n",
    "        with tf.Session() as sess:\n",
    "            # restore session\n",
    "            saver.restore(sess, ens_path + str(i) + '/best-model-session')\n",
    "            # compute scores\n",
    "            scores = model.get_class_scores(X, sess)\n",
    "            with open(ens_path + str(i) + '/' + scores_file_name, mode='wb') as f:\n",
    "                pickle.dump(scores, f)\n",
    "            print('scores for model ' + str(i) + ' saved.')"
   ]
  },
  {
   "cell_type": "code",
   "execution_count": 4,
   "metadata": {
    "scrolled": false
   },
   "outputs": [
    {
     "name": "stdout",
     "output_type": "stream",
     "text": [
      "INFO:tensorflow:Restoring parameters from saved-salexnet-aug-eq-n-ens1/best-model-session\n",
      "scores for model 1 saved.\n",
      "INFO:tensorflow:Restoring parameters from saved-salexnet-aug-eq-n-ens2/best-model-session\n",
      "scores for model 2 saved.\n",
      "INFO:tensorflow:Restoring parameters from saved-salexnet-aug-eq-n-ens3/best-model-session\n",
      "scores for model 3 saved.\n",
      "INFO:tensorflow:Restoring parameters from saved-salexnet-aug-eq-n-ens4/best-model-session\n",
      "scores for model 4 saved.\n",
      "INFO:tensorflow:Restoring parameters from saved-salexnet-aug-eq-n-ens5/best-model-session\n",
      "scores for model 5 saved.\n",
      "INFO:tensorflow:Restoring parameters from saved-salexnet-aug-eq-n-ens6/best-model-session\n",
      "scores for model 6 saved.\n",
      "INFO:tensorflow:Restoring parameters from saved-salexnet-aug-eq-n-ens7/best-model-session\n",
      "scores for model 7 saved.\n",
      "INFO:tensorflow:Restoring parameters from saved-salexnet-aug-eq-n-ens8/best-model-session\n",
      "scores for model 8 saved.\n",
      "INFO:tensorflow:Restoring parameters from saved-salexnet-aug-eq-n-ens9/best-model-session\n",
      "scores for model 9 saved.\n",
      "INFO:tensorflow:Restoring parameters from saved-salexnet-aug-eq-n-ens10/best-model-session\n",
      "scores for model 10 saved.\n"
     ]
    }
   ],
   "source": [
    "pickle_model_scores(X_test_norm, salexnet, ens, ens_path, scores_file_name)"
   ]
  },
  {
   "cell_type": "code",
   "execution_count": 5,
   "metadata": {
    "collapsed": true
   },
   "outputs": [],
   "source": [
    "def compute_accuracy(predictions, labels):\n",
    "  return (100.0 * np.sum(np.argmax(predictions, 1) == np.argmax(labels, 1))\n",
    "          / predictions.shape[0])\n",
    "\n",
    "def average_scores_and_predict(Y, ens, ens_path, scores_file_name, dim):\n",
    "    \"\"\"Get saved scores, average and predict.\n",
    "    \n",
    "    Args:\n",
    "        Y: numpy array as labels from test dataset.\n",
    "        ens: list of ensemble numbers.\n",
    "        ens_path: (string) saved session path (not including the last \n",
    "                  ens number).\n",
    "        scores_file: file name to save the scores.\n",
    "        dim: tuple to indicate the dimensions, \n",
    "             (number_of_examples, number_of_classes).\n",
    "    \"\"\"\n",
    "    total_scores = np.zeros(dim, dtype=np.float32)\n",
    "    for i in ens:\n",
    "        with open(ens_path + str(i) + '/' + scores_file_name, mode='rb') as f:\n",
    "            scores = pickle.load(f)\n",
    "            total_scores = total_scores + scores[0]\n",
    "    avg = total_scores / len(ens)\n",
    "    Y_one_hot = np.zeros((dim), dtype=np.float32)\n",
    "    Y_one_hot[np.arange(dim[0]), Y] = 1.\n",
    "    accuracy = compute_accuracy(avg, Y_one_hot)\n",
    "    return accuracy"
   ]
  },
  {
   "cell_type": "code",
   "execution_count": 6,
   "metadata": {
    "scrolled": false
   },
   "outputs": [
    {
     "data": {
      "text/plain": [
       "98.321456848772769"
      ]
     },
     "execution_count": 6,
     "metadata": {},
     "output_type": "execute_result"
    }
   ],
   "source": [
    "dim = (X_test.shape[0], num_labels)\n",
    "average_scores_and_predict(y_test, ens, ens_path, scores_file_name, dim)"
   ]
  },
  {
   "cell_type": "code",
   "execution_count": 7,
   "metadata": {},
   "outputs": [
    {
     "data": {
      "text/plain": [
       "98.384798099762477"
      ]
     },
     "execution_count": 7,
     "metadata": {},
     "output_type": "execute_result"
    }
   ],
   "source": [
    "ens = [3, 4, 7]\n",
    "average_scores_and_predict(y_test, ens, ens_path, scores_file_name, dim)"
   ]
  },
  {
   "cell_type": "code",
   "execution_count": 8,
   "metadata": {
    "collapsed": true
   },
   "outputs": [],
   "source": [
    "def vote_scores_and_predict(Y, ens, ens_path, scores_file_name, dim):\n",
    "    \"\"\"Get saved scores, count votes and predict.\n",
    "    \n",
    "    Args:\n",
    "        Y: numpy array as labels from test dataset.\n",
    "        ens: list of ensemble numbers.\n",
    "        ens_path: (string) saved session path (not including the last \n",
    "                  ens number).\n",
    "        scores_file: file name to save the scores.\n",
    "        dim: tuple to indicate the dimensions, \n",
    "             (number_of_examples, number_of_classes).\n",
    "    \"\"\"\n",
    "    \n",
    "    ens_scores = []\n",
    "    for i in ens:\n",
    "        with open(ens_path + str(i) + '/' + scores_file_name, mode='rb') as f:\n",
    "            scores = pickle.load(f)\n",
    "            ens_scores.append(scores[0])\n",
    "    stack = np.dstack(ens_scores)\n",
    "    vsum = np.sum(stack, axis=2)\n",
    "    votes = np.argmax(vsum, axis=1)\n",
    "    Y_one_hot = np.zeros((dim), dtype=np.float32)\n",
    "    Y_one_hot[np.arange(dim[0]), Y] = 1.\n",
    "    accuracy = (100.0*np.sum(votes == np.argmax(Y_one_hot, 1))\n",
    "        / votes.shape[0])\n",
    "    return accuracy"
   ]
  },
  {
   "cell_type": "code",
   "execution_count": 9,
   "metadata": {},
   "outputs": [
    {
     "data": {
      "text/plain": [
       "98.321456848772769"
      ]
     },
     "execution_count": 9,
     "metadata": {},
     "output_type": "execute_result"
    }
   ],
   "source": [
    "ens = [1, 2, 3, 4, 5, 6, 7, 8, 9, 10]\n",
    "vote_scores_and_predict(y_test, ens, ens_path, scores_file_name, dim)"
   ]
  },
  {
   "cell_type": "code",
   "execution_count": 10,
   "metadata": {},
   "outputs": [
    {
     "data": {
      "text/plain": [
       "98.384798099762477"
      ]
     },
     "execution_count": 10,
     "metadata": {},
     "output_type": "execute_result"
    }
   ],
   "source": [
    "ens = [3, 4, 7]\n",
    "vote_scores_and_predict(y_test, ens, ens_path, scores_file_name, dim)"
   ]
  },
  {
   "cell_type": "code",
   "execution_count": 11,
   "metadata": {},
   "outputs": [
    {
     "data": {
      "image/png": "[encoded data removed]",
      "text/plain": [
       "<matplotlib.figure.Figure at 0x7f82b0d99f28>"
      ]
     },
     "metadata": {},
     "output_type": "display_data"
    }
   ],
   "source": [
    "# F1-scores of 3 models with the best model\n",
    "paths = [\n",
    "    './saved-salexnet-aug-eq-n-ens7/best-test-f1-scores.pkl',\n",
    "    './saved-salexnet-aug-eq-n-ens4/best-test-f1-scores.pkl',\n",
    "    './saved-salexnet-aug-eq-n-ens3/best-test-f1-scores.pkl'\n",
    "    ]\n",
    "classes = np.arange(43)\n",
    "colors = ['red', 'blue', 'orange']\n",
    "markers = ['o', 'v', 's']\n",
    "labels = ['model 7', 'model 4', 'model 3']\n",
    "for i, path in enumerate(paths):\n",
    "    with open(path, mode='rb') as f:\n",
    "        score_list = pickle.load(f)\n",
    "    plt.plot(classes, score_list,\n",
    "        marker=markers[i], color=colors[i],\n",
    "        label=labels[i])\n",
    "plt.title('F1-Scores of 3 Models in The Ensemble')\n",
    "plt.ylabel('f1-score')\n",
    "plt.xlabel('classes')\n",
    "plt.legend(loc='lower left')\n",
    "plt.show()\n",
    "plt.close()"
   ]
  },
  {
   "cell_type": "code",
   "execution_count": null,
   "metadata": {
    "collapsed": true
   },
   "outputs": [],
   "source": []
  }
 ],
 "metadata": {
  "kernelspec": {
   "display_name": "Python 3",
   "language": "python",
   "name": "python3"
  },
  "language_info": {
   "codemirror_mode": {
    "name": "ipython",
    "version": 3
   },
   "file_extension": ".py",
   "mimetype": "text/x-python",
   "name": "python",
   "nbconvert_exporter": "python",
   "pygments_lexer": "ipython3",
   "version": "3.6.2"
  }
 },
 "nbformat": 4,
 "nbformat_minor": 2
}

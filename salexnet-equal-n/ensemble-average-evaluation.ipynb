{
 "cells": [
  {
   "cell_type": "code",
   "execution_count": 1,
   "metadata": {
    "collapsed": true
   },
   "outputs": [],
   "source": [
    "# imports\n",
    "import tensorflow as tf\n",
    "import numpy as np\n",
    "from six.moves import cPickle as pickle\n",
    "from scaledalexnet import *"
   ]
  },
  {
   "cell_type": "code",
   "execution_count": 2,
   "metadata": {},
   "outputs": [
    {
     "name": "stdout",
     "output_type": "stream",
     "text": [
      "(12630, 32, 32, 3)\n",
      "(12630,)\n"
     ]
    }
   ],
   "source": [
    "# load data\n",
    "\n",
    "testing_file = '../datasets/traffic-signs-data/test.p'\n",
    "with open(testing_file, mode='rb') as f:\n",
    "    test = pickle.load(f)\n",
    "    \n",
    "X_test, y_test = test['features'], test['labels']\n",
    "\n",
    "print(X_test.shape)\n",
    "print(y_test.shape)\n",
    "\n",
    "pixel_depth = 255.0\n",
    "\n",
    "X_test_norm =  (X_test.astype(np.float32) - (pixel_depth * 0.5)) / (pixel_depth * 0.5)"
   ]
  },
  {
   "cell_type": "code",
   "execution_count": 3,
   "metadata": {
    "collapsed": true
   },
   "outputs": [],
   "source": [
    "ens = [1, 2, 3, 4, 5, 6, 7, 8, 9, 10] # model numbers to join the ensemble average\n",
    "ens_path = 'saved-salexnet-aug-eq-n-ens' # path for saved models\n",
    "scores_file_name = 'scores.pkl' # file name to save scores\n",
    "\n",
    "num_labels = 43\n",
    "batch_size = 12630\n",
    "\n",
    "salexnet = ScaledAlexNet(num_labels, image_size=32, batch_size=batch_size)\n",
    "\n",
    "def pickle_model_scores(X, model, ens, ens_path, scores_file_name):\n",
    "    \"\"\"Save scores for each model.\n",
    "    \n",
    "    Arguments:\n",
    "        X: features of test dataset.\n",
    "        ens: a list of model numbers to join the ensemble average.\n",
    "        ens_path: (string) saved session path (not including the last \n",
    "                  ens number).\n",
    "        scores_file: file name to save the scores.\n",
    "    \"\"\"\n",
    "    \n",
    "    model.init_model()\n",
    "    saver = tf.train.Saver()\n",
    "    \n",
    "    for i in ens:\n",
    "        with tf.Session() as sess:\n",
    "            # restore session\n",
    "            saver.restore(sess, ens_path + str(i) + '/best-model-session')\n",
    "            # compute scores\n",
    "            scores = model.get_class_scores(X, sess)\n",
    "            with open(ens_path + str(i) + '/' + scores_file_name, mode='wb') as f:\n",
    "                pickle.dump(scores, f)\n",
    "            print('scores for model ' + str(i) + ' saved.')"
   ]
  },
  {
   "cell_type": "code",
   "execution_count": 4,
   "metadata": {
    "scrolled": false
   },
   "outputs": [
    {
     "name": "stdout",
     "output_type": "stream",
     "text": [
      "INFO:tensorflow:Restoring parameters from saved-salexnet-aug-eq-n-ens1/best-model-session\n",
      "scores for model 1 saved.\n",
      "INFO:tensorflow:Restoring parameters from saved-salexnet-aug-eq-n-ens2/best-model-session\n",
      "scores for model 2 saved.\n",
      "INFO:tensorflow:Restoring parameters from saved-salexnet-aug-eq-n-ens3/best-model-session\n",
      "scores for model 3 saved.\n",
      "INFO:tensorflow:Restoring parameters from saved-salexnet-aug-eq-n-ens4/best-model-session\n",
      "scores for model 4 saved.\n",
      "INFO:tensorflow:Restoring parameters from saved-salexnet-aug-eq-n-ens5/best-model-session\n",
      "scores for model 5 saved.\n",
      "INFO:tensorflow:Restoring parameters from saved-salexnet-aug-eq-n-ens6/best-model-session\n",
      "scores for model 6 saved.\n",
      "INFO:tensorflow:Restoring parameters from saved-salexnet-aug-eq-n-ens7/best-model-session\n",
      "scores for model 7 saved.\n",
      "INFO:tensorflow:Restoring parameters from saved-salexnet-aug-eq-n-ens8/best-model-session\n",
      "scores for model 8 saved.\n",
      "INFO:tensorflow:Restoring parameters from saved-salexnet-aug-eq-n-ens9/best-model-session\n",
      "scores for model 9 saved.\n",
      "INFO:tensorflow:Restoring parameters from saved-salexnet-aug-eq-n-ens10/best-model-session\n",
      "scores for model 10 saved.\n"
     ]
    }
   ],
   "source": [
    "pickle_model_scores(X_test_norm, salexnet, ens, ens_path, scores_file_name)"
   ]
  },
  {
   "cell_type": "code",
   "execution_count": 5,
   "metadata": {
    "collapsed": true
   },
   "outputs": [],
   "source": [
    "def compute_accuracy(predictions, labels):\n",
    "  return (100.0 * np.sum(np.argmax(predictions, 1) == np.argmax(labels, 1))\n",
    "          / predictions.shape[0])\n",
    "\n",
    "def average_scores_and_predict(Y, ens, ens_path, scores_file_name, dim):\n",
    "    \"\"\"Get saved scores, average and predict.\n",
    "    \n",
    "    Args:\n",
    "        Y: numpy array as labels from test dataset.\n",
    "        ens: list of ensemble numbers.\n",
    "        ens_path: (string) saved session path (not including the last \n",
    "                  ens number).\n",
    "        scores_file: file name to save the scores.\n",
    "        dim: tuple to indicate the dimensions, \n",
    "             (number_of_examples, number_of_classes).\n",
    "    \"\"\"\n",
    "    total_scores = np.zeros(dim, dtype=np.float32)\n",
    "    for i in ens:\n",
    "        with open(ens_path + str(i) + '/' + scores_file_name, mode='rb') as f:\n",
    "            scores = pickle.load(f)\n",
    "            total_scores = total_scores + scores[0]\n",
    "    avg = total_scores / len(ens)\n",
    "    Y_one_hot = np.zeros((dim), dtype=np.float32)\n",
    "    Y_one_hot[np.arange(dim[0]), Y] = 1.\n",
    "    accuracy = compute_accuracy(avg, Y_one_hot)\n",
    "    return accuracy"
   ]
  },
  {
   "cell_type": "code",
   "execution_count": 6,
   "metadata": {},
   "outputs": [
    {
     "data": {
      "text/plain": [
       "98.321456848772769"
      ]
     },
     "execution_count": 6,
     "metadata": {},
     "output_type": "execute_result"
    }
   ],
   "source": [
    "dim = (X_test.shape[0], num_labels)\n",
    "average_scores_and_predict(y_test, ens, ens_path, scores_file_name, dim)"
   ]
  },
  {
   "cell_type": "code",
   "execution_count": 8,
   "metadata": {},
   "outputs": [
    {
     "data": {
      "text/plain": [
       "98.384798099762477"
      ]
     },
     "execution_count": 8,
     "metadata": {},
     "output_type": "execute_result"
    }
   ],
   "source": [
    "ens = [3, 4, 7]\n",
    "average_scores_and_predict(y_test, ens, ens_path, scores_file_name, dim)"
   ]
  },
  {
   "cell_type": "code",
   "execution_count": null,
   "metadata": {
    "collapsed": true
   },
   "outputs": [],
   "source": []
  }
 ],
 "metadata": {
  "kernelspec": {
   "display_name": "Python 3",
   "language": "python",
   "name": "python3"
  },
  "language_info": {
   "codemirror_mode": {
    "name": "ipython",
    "version": 3
   },
   "file_extension": ".py",
   "mimetype": "text/x-python",
   "name": "python",
   "nbconvert_exporter": "python",
   "pygments_lexer": "ipython3",
   "version": "3.6.1"
  }
 },
 "nbformat": 4,
 "nbformat_minor": 2
}
